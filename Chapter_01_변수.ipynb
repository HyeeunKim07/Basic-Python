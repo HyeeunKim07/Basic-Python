{
  "nbformat": 4,
  "nbformat_minor": 0,
  "metadata": {
    "colab": {
      "provenance": [],
      "authorship_tag": "ABX9TyM6qsi//OR36oQNv4r65zH+",
      "include_colab_link": true
    },
    "kernelspec": {
      "name": "python3",
      "display_name": "Python 3"
    },
    "language_info": {
      "name": "python"
    }
  },
  "cells": [
    {
      "cell_type": "markdown",
      "metadata": {
        "id": "view-in-github",
        "colab_type": "text"
      },
      "source": [
        "<a href=\"https://colab.research.google.com/github/HyeeunKim07/Basic-Python/blob/main/Chapter_01_%EB%B3%80%EC%88%98.ipynb\" target=\"_parent\"><img src=\"https://colab.research.google.com/assets/colab-badge.svg\" alt=\"Open In Colab\"/></a>"
      ]
    },
    {
      "cell_type": "markdown",
      "source": [
        "# **Chapter 01_변수**\n",
        "**01. 변수란?**\n",
        "\n",
        "변수는 '변하는 수'라는 뜻으로, 숫자나 문자와 같은 데이터를 저장하는 공간을 의미해요!"
      ],
      "metadata": {
        "id": "AlnaDvejtq5B"
      }
    },
    {
      "cell_type": "code",
      "execution_count": null,
      "metadata": {
        "colab": {
          "base_uri": "https://localhost:8080/"
        },
        "id": "itYajjvttoB7",
        "outputId": "007467ca-d33a-44e5-e568-46080864f5ef"
      },
      "outputs": [
        {
          "output_type": "stream",
          "name": "stdout",
          "text": [
            "3\n"
          ]
        }
      ],
      "source": [
        "a = 3\n",
        "print(a)"
      ]
    },
    {
      "cell_type": "markdown",
      "source": [
        "이처럼 a라는 변수에 3이라는 숫자를 넣는 것을 '변수에 값을 할당한다'고 말해요.\n",
        "\n",
        "이제 자신의 이름을 'name'이라는 변수에 할당한 뒤 출력해볼까요?\n",
        "\n",
        "* 출력을 할 때는 print() 코드를 사용하는데, 이 부분은 뒤에서 다시 설명할게요!"
      ],
      "metadata": {
        "id": "bC-JB3S2uEra"
      }
    },
    {
      "cell_type": "code",
      "source": [
        "name = \"스마트랩\"\n",
        "print(name)"
      ],
      "metadata": {
        "colab": {
          "base_uri": "https://localhost:8080/"
        },
        "id": "la6pu50ruC6P",
        "outputId": "fe46c92a-24a0-42ca-d434-34631da7bfd7"
      },
      "execution_count": null,
      "outputs": [
        {
          "output_type": "stream",
          "name": "stdout",
          "text": [
            "스마트랩\n"
          ]
        }
      ]
    },
    {
      "cell_type": "markdown",
      "source": [
        "**02. 문자열**\n",
        "\n",
        "문자열은 어떤 숫자나 문자를 따옴표로 나타낸, 문자로 이루어진 데이터를 의미해요!\n",
        "\n",
        "앞서 사용된 것처럼 한글과 같이 문자를 사용할 때에는 문자열로 나타내주어야 합니다.\n",
        "\n",
        "나타내기 위해 내용의 앞과 뒤에 작은따옴표('), 큰따옴표(\"), 세 개의 작은따옴표('''), 세 개의 큰따옴표(\"\"\")를 사용해요!"
      ],
      "metadata": {
        "id": "s6hz5FLLBa7p"
      }
    },
    {
      "cell_type": "code",
      "source": [
        "print('안녕하세요')\n",
        "print(\"Chapter 01 변수에\")\n",
        "print('''오신 것을''')\n",
        "print(\"\"\"환영합니다\"\"\")"
      ],
      "metadata": {
        "colab": {
          "base_uri": "https://localhost:8080/"
        },
        "id": "zvxpfFs-COSn",
        "outputId": "011c21fb-bd08-47cb-dcba-b29b2a29f82e"
      },
      "execution_count": null,
      "outputs": [
        {
          "output_type": "stream",
          "name": "stdout",
          "text": [
            "안녕하세요\n",
            "Chapter 01 변수에\n",
            "오신 것을\n",
            "환영합니다\n"
          ]
        }
      ]
    },
    {
      "cell_type": "markdown",
      "source": [
        "만약 말하고자 하는 문장 안에 따옴표가 있다면 두 가지 방법을 사용할 수 있어요!\n",
        "\n",
        "1. 문장 내에서 사용되는 따옴표와 다른 따옴표 사용하기\n",
        "\n",
        "2. 세 개의 따옴표를 이용하기"
      ],
      "metadata": {
        "id": "hWXSpknEChcF"
      }
    },
    {
      "cell_type": "code",
      "source": [
        "# 1번에 대한 예제\n",
        "print('호앙이가 \"졸려\"라고 말했어요')"
      ],
      "metadata": {
        "colab": {
          "base_uri": "https://localhost:8080/"
        },
        "id": "SbJ8hjByCuWc",
        "outputId": "2c7748cf-222b-4bd2-8a9c-f28b6f802532"
      },
      "execution_count": null,
      "outputs": [
        {
          "output_type": "stream",
          "name": "stdout",
          "text": [
            "호앙이가 \"졸려\"라고 말했어요\n"
          ]
        }
      ]
    },
    {
      "cell_type": "code",
      "source": [
        "# 2번에 대한 예제\n",
        "print('''그러자 누군가 \"그럼 자\" 라고 했지만\n",
        "호앙이는 \"싫은데?\"라고 했어요 ''')"
      ],
      "metadata": {
        "colab": {
          "base_uri": "https://localhost:8080/"
        },
        "id": "TvtBfE4fC87p",
        "outputId": "3b5261a0-300d-45f7-d89f-9e1046b2a5a1"
      },
      "execution_count": null,
      "outputs": [
        {
          "output_type": "stream",
          "name": "stdout",
          "text": [
            "그러자 누군가 \"그럼 자\" 라고 했지만\n",
            "호앙이는 \"싫은데?\"라고 했어요 \n"
          ]
        }
      ]
    },
    {
      "cell_type": "markdown",
      "source": [
        "**02. 변수 지정 시 주의사항**\n",
        "\n",
        "변수의 이름을 정할 때는 지켜야 하는 규칙이 있어요!\n",
        "\n",
        "1. 영문과 숫자, 언더바(_)만 사용 가능해요.\n",
        "2. 대소문자를 구분해서 사용해요.\n",
        "3. 영문이나 언더바로 시작할 수 있지만, 숫자로는 시작할 수 없어요.\n",
        "* 숫자로 시작하게 되면 invalid decimal literal 라는 오류가 떠요!\n",
        "4. 특수문자나 파이썬에서 사용되는 키워드는 사용할 수 없어요.\n",
        "* 파이썬에서 사용되는 키워드에는 print, for, if 등이 있어요."
      ],
      "metadata": {
        "id": "s-BYr-4bun3t"
      }
    },
    {
      "cell_type": "code",
      "source": [
        "# 규칙 1번에 대한 예제\n",
        "name_10 = 3\n",
        "print(name_10)"
      ],
      "metadata": {
        "colab": {
          "base_uri": "https://localhost:8080/"
        },
        "id": "Qyc4PdWtuil-",
        "outputId": "9e134fba-592e-4d44-c74e-5a6b526edb73"
      },
      "execution_count": null,
      "outputs": [
        {
          "output_type": "stream",
          "name": "stdout",
          "text": [
            "3\n"
          ]
        }
      ]
    },
    {
      "cell_type": "code",
      "source": [
        "# 규칙 2번에 대한 예제\n",
        "Name = 5\n",
        "name = 7\n",
        "print(Name)"
      ],
      "metadata": {
        "colab": {
          "base_uri": "https://localhost:8080/"
        },
        "id": "wUVmpCl_vc24",
        "outputId": "92a7ecfa-972b-463b-b593-d8c98bcd3dd6"
      },
      "execution_count": null,
      "outputs": [
        {
          "output_type": "stream",
          "name": "stdout",
          "text": [
            "5\n"
          ]
        }
      ]
    },
    {
      "cell_type": "code",
      "source": [
        "# 규칙 3번에 대한 예제\n",
        "_name = 9\n",
        "10_name = 7\n",
        "print(10_name)"
      ],
      "metadata": {
        "colab": {
          "base_uri": "https://localhost:8080/",
          "height": 146
        },
        "id": "HutbFXaivj-S",
        "outputId": "9016e9e1-cea0-4448-bc8a-17020d2e2236"
      },
      "execution_count": null,
      "outputs": [
        {
          "output_type": "error",
          "ename": "SyntaxError",
          "evalue": "ignored",
          "traceback": [
            "\u001b[0;36m  File \u001b[0;32m\"<ipython-input-5-ab6f6a888376>\"\u001b[0;36m, line \u001b[0;32m3\u001b[0m\n\u001b[0;31m    10_name = 7\u001b[0m\n\u001b[0m      ^\u001b[0m\n\u001b[0;31mSyntaxError\u001b[0m\u001b[0;31m:\u001b[0m invalid decimal literal\n"
          ]
        }
      ]
    },
    {
      "cell_type": "code",
      "source": [
        "# 규칙 4번에 대한 예제\n",
        "print = 10\n",
        "print(print)"
      ],
      "metadata": {
        "colab": {
          "base_uri": "https://localhost:8080/",
          "height": 219
        },
        "id": "TdkBVrqRvr8e",
        "outputId": "58750da2-7818-4e41-e6f8-6113e014410c"
      },
      "execution_count": null,
      "outputs": [
        {
          "output_type": "error",
          "ename": "TypeError",
          "evalue": "ignored",
          "traceback": [
            "\u001b[0;31m---------------------------------------------------------------------------\u001b[0m",
            "\u001b[0;31mTypeError\u001b[0m                                 Traceback (most recent call last)",
            "\u001b[0;32m<ipython-input-7-7240ed8a17e4>\u001b[0m in \u001b[0;36m<cell line: 3>\u001b[0;34m()\u001b[0m\n\u001b[1;32m      1\u001b[0m \u001b[0;31m# 규칙 4번에 대한 예제\u001b[0m\u001b[0;34m\u001b[0m\u001b[0;34m\u001b[0m\u001b[0m\n\u001b[1;32m      2\u001b[0m \u001b[0mprint\u001b[0m \u001b[0;34m=\u001b[0m \u001b[0;36m10\u001b[0m\u001b[0;34m\u001b[0m\u001b[0;34m\u001b[0m\u001b[0m\n\u001b[0;32m----> 3\u001b[0;31m \u001b[0mprint\u001b[0m\u001b[0;34m(\u001b[0m\u001b[0mprint\u001b[0m\u001b[0;34m)\u001b[0m\u001b[0;34m\u001b[0m\u001b[0;34m\u001b[0m\u001b[0m\n\u001b[0m",
            "\u001b[0;31mTypeError\u001b[0m: 'int' object is not callable"
          ]
        }
      ]
    }
  ]
}