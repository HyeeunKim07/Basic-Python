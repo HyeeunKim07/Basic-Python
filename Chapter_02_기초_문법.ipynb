{
  "nbformat": 4,
  "nbformat_minor": 0,
  "metadata": {
    "colab": {
      "provenance": [],
      "authorship_tag": "ABX9TyMpVzWvimduZocOUobHPH/a",
      "include_colab_link": true
    },
    "kernelspec": {
      "name": "python3",
      "display_name": "Python 3"
    },
    "language_info": {
      "name": "python"
    }
  },
  "cells": [
    {
      "cell_type": "markdown",
      "metadata": {
        "id": "view-in-github",
        "colab_type": "text"
      },
      "source": [
        "<a href=\"https://colab.research.google.com/github/HyeeunKim07/Basic-Python/blob/main/Chapter_02_%EA%B8%B0%EC%B4%88_%EB%AC%B8%EB%B2%95.ipynb\" target=\"_parent\"><img src=\"https://colab.research.google.com/assets/colab-badge.svg\" alt=\"Open In Colab\"/></a>"
      ]
    },
    {
      "cell_type": "markdown",
      "source": [
        "# **Chapter 02_기초 문법**\n",
        "**01. print**\n",
        "\n",
        "파이썬에서 어떤 값을 출력할 때는 print를 사용해요!\n",
        "\n",
        "print()의 형식으로 사용하며, 괄호 안에 숫자나 문자를 넣어 출력할 수 있어요.\n",
        "\n",
        "* 주의할점: 문자를 넣을 때는 따옴표 ' ' 또는 쌍따옴표 \" \"를 꼭 해주어야 해요!"
      ],
      "metadata": {
        "id": "AzzBJ6OX0d0z"
      }
    },
    {
      "cell_type": "code",
      "source": [
        "print('Life is short and you need Python')"
      ],
      "metadata": {
        "colab": {
          "base_uri": "https://localhost:8080/"
        },
        "id": "gYI3eFbc1Hba",
        "outputId": "21203895-7e0b-4346-a1af-4193c96b2629"
      },
      "execution_count": null,
      "outputs": [
        {
          "output_type": "stream",
          "name": "stdout",
          "text": [
            "Life is short and you need Python\n"
          ]
        }
      ]
    },
    {
      "cell_type": "code",
      "execution_count": null,
      "metadata": {
        "colab": {
          "base_uri": "https://localhost:8080/"
        },
        "id": "j5yOHI6ry3WA",
        "outputId": "dd4e020b-0bcc-4ddf-a5ff-191bf4ea5554"
      },
      "outputs": [
        {
          "output_type": "stream",
          "name": "stdout",
          "text": [
            "8\n"
          ]
        }
      ],
      "source": [
        "print(3+5)"
      ]
    },
    {
      "cell_type": "markdown",
      "source": [
        "위처럼 숫자를 넣으면서, 사칙연산 기호를 같이 넣으면 값이 계산되어서 나온답니다!\n",
        "\n",
        "같은 숫자여도 따옴표 안에 숫자를 넣으면 넣은 그대로 문자로 인식되기 때문에 그대로 나오게 되죠."
      ],
      "metadata": {
        "id": "wpQh4WRi1P4t"
      }
    },
    {
      "cell_type": "code",
      "source": [
        "print('3+5')"
      ],
      "metadata": {
        "colab": {
          "base_uri": "https://localhost:8080/"
        },
        "id": "pFHdea3L1L70",
        "outputId": "e87f1830-cd52-4ada-fdbe-5fac1e495a0e"
      },
      "execution_count": null,
      "outputs": [
        {
          "output_type": "stream",
          "name": "stdout",
          "text": [
            "3+5\n"
          ]
        }
      ]
    },
    {
      "cell_type": "markdown",
      "source": [
        "print로 여러가지 값을 동시에 출력하려면 쉼표(,)를 이용하면 된답니다."
      ],
      "metadata": {
        "id": "8LlFuNO8E1kI"
      }
    },
    {
      "cell_type": "code",
      "source": [
        "a = 'You'\n",
        "b = 'need'\n",
        "c = 'Python'\n",
        "print(a, b, c)"
      ],
      "metadata": {
        "colab": {
          "base_uri": "https://localhost:8080/"
        },
        "id": "-XLm72niE-f8",
        "outputId": "5a7157e9-7a00-4dc5-b5f3-e0d5f1a4c8e8"
      },
      "execution_count": null,
      "outputs": [
        {
          "output_type": "stream",
          "name": "stdout",
          "text": [
            "You need Python\n"
          ]
        }
      ]
    },
    {
      "cell_type": "markdown",
      "source": [
        "print를 이용해 여러 줄을 출력하기 위해서는 두 가지 방법이 있는데요\n",
        "\n",
        "먼저 print 함수를 여러 번 쓰는 방법이 있고\n",
        "\n",
        "다른 방법으로는 print()에서 괄호 안에 '''을 사용하는 거에요.\n",
        "\n",
        "(''' 표시의 경우는 다음 챕터에서 다시 설명할게요!)"
      ],
      "metadata": {
        "id": "3okTEbbdARfJ"
      }
    },
    {
      "cell_type": "code",
      "source": [
        "print('''안녕하세요 저는 김혜은이고요\n",
        "이걸 만들고 있는 사람이에요!\n",
        "사실 챕터 순서가 이상하거나 내용 이해가 어려울 수 있는데\n",
        "언제든지 피드백 해주세요!''')"
      ],
      "metadata": {
        "colab": {
          "base_uri": "https://localhost:8080/"
        },
        "id": "nl7GBXPwAg6J",
        "outputId": "08734979-73e1-4d59-ceb2-f7e468612964"
      },
      "execution_count": null,
      "outputs": [
        {
          "output_type": "stream",
          "name": "stdout",
          "text": [
            "안녕하세요 저는 김혜은이고요\n",
            "이걸 만들고 있는 사람이에요!\n",
            "사실 챕터 순서가 이상하거나 내용 이해가 어려울 수 있는데\n",
            "언제든지 피드백 해주세요!\n"
          ]
        }
      ]
    },
    {
      "cell_type": "markdown",
      "source": [
        "**02. input과 print(f' ')**\n",
        "\n",
        "input 코드는 print와 비슷한데요, 데이터를 입력받을 수 있는 코드랍니다.\n",
        "\n",
        "print(f ' ') 코드는 변수 데이터와 일반적인 글자를 함께 출력할 때 사용하는 코드입니다."
      ],
      "metadata": {
        "id": "QAuU6iNZ25T_"
      }
    },
    {
      "cell_type": "code",
      "source": [
        "name = input()\n",
        "print(f'반갑습니다 {name}님')"
      ],
      "metadata": {
        "colab": {
          "base_uri": "https://localhost:8080/"
        },
        "id": "qVYcIlAS4gGL",
        "outputId": "57ec95a4-b33d-4a36-c3fa-94f7b842066b"
      },
      "execution_count": null,
      "outputs": [
        {
          "output_type": "stream",
          "name": "stdout",
          "text": [
            "스마트랩\n",
            "반갑습니다 스마트랩님\n"
          ]
        }
      ]
    },
    {
      "cell_type": "markdown",
      "source": [
        "**03. print 함수의 옵션**\n",
        "\n",
        "함수의 옵션 함수를 보조하거나 변형하는 기능을 의미하며 help(함수이름)을 통해 확인할 수 있어요!\n",
        "\n",
        "print 함수의 옵션 중 sep의 경우 출력하는 내용 사이사이에 다른 문자나 공백을 넣을 수 있답니다."
      ],
      "metadata": {
        "id": "vUftpqyWFji5"
      }
    },
    {
      "cell_type": "code",
      "source": [
        "a = 'You'\n",
        "b = 'need'\n",
        "c = 'Python'\n",
        "print(a, b, c, sep=\"...\")"
      ],
      "metadata": {
        "colab": {
          "base_uri": "https://localhost:8080/"
        },
        "id": "TBLGwnzxGNrT",
        "outputId": "8bf358d7-8e09-4e87-8fca-f2ad5679da3f"
      },
      "execution_count": null,
      "outputs": [
        {
          "output_type": "stream",
          "name": "stdout",
          "text": [
            "You...need...Python\n"
          ]
        }
      ]
    }
  ]
}