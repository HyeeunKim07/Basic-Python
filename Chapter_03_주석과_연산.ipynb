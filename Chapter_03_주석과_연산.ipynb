{
  "nbformat": 4,
  "nbformat_minor": 0,
  "metadata": {
    "colab": {
      "provenance": [],
      "authorship_tag": "ABX9TyObg3/zH4OnJPsHuCamJi5v",
      "include_colab_link": true
    },
    "kernelspec": {
      "name": "python3",
      "display_name": "Python 3"
    },
    "language_info": {
      "name": "python"
    }
  },
  "cells": [
    {
      "cell_type": "markdown",
      "metadata": {
        "id": "view-in-github",
        "colab_type": "text"
      },
      "source": [
        "<a href=\"https://colab.research.google.com/github/HyeeunKim07/Basic-Python/blob/main/Chapter_03_%EC%A3%BC%EC%84%9D%EA%B3%BC_%EC%97%B0%EC%82%B0.ipynb\" target=\"_parent\"><img src=\"https://colab.research.google.com/assets/colab-badge.svg\" alt=\"Open In Colab\"/></a>"
      ]
    },
    {
      "cell_type": "markdown",
      "source": [
        "# **Chapter 03_주석과 연산**\n",
        "**01. 주석**\n",
        "\n",
        "주석은 파이썬 코드 중에서 간단한 메모 또는 안내를 적을 때 사용해요!\n",
        "\n",
        "사람의 언어로 나타내기에 컴퓨터는 인식하지 못해서, 자유롭게 작성할 수 있답니다.\n",
        "\n",
        "주석을 나타낼 때는 #와 '''을 사용해요."
      ],
      "metadata": {
        "id": "jK3aEnvD-2-w"
      }
    },
    {
      "cell_type": "code",
      "execution_count": null,
      "metadata": {
        "colab": {
          "base_uri": "https://localhost:8080/"
        },
        "id": "2IcWDbtn-2dO",
        "outputId": "c75b9b71-0d6a-48c0-92cd-66d03537963a"
      },
      "outputs": [
        {
          "output_type": "stream",
          "name": "stdout",
          "text": [
            "5\n"
          ]
        }
      ],
      "source": [
        "# a = 3\n",
        "a = 5\n",
        "print(a)"
      ]
    },
    {
      "cell_type": "markdown",
      "source": [
        "따옴표 세 개 (''')를 이용하면 한 번에 여러 줄을 주석으로 만들 수 있어요!"
      ],
      "metadata": {
        "id": "unv7j2NW_WVr"
      }
    },
    {
      "cell_type": "code",
      "source": [
        "'''\n",
        "지금 배우는 내용은 주석이에요!\n",
        "어려운 점 있으면 언제든지 말해주세요 :)\n",
        "a = 5\n",
        "'''\n",
        "a = 3\n",
        "print(a)"
      ],
      "metadata": {
        "colab": {
          "base_uri": "https://localhost:8080/"
        },
        "id": "OCgA5npt_SvX",
        "outputId": "29a04c22-7172-4917-9a10-ed9fb5428a56"
      },
      "execution_count": null,
      "outputs": [
        {
          "output_type": "stream",
          "name": "stdout",
          "text": [
            "3\n"
          ]
        }
      ]
    },
    {
      "cell_type": "markdown",
      "source": [
        "**03. 연산자**\n",
        "\n",
        "파이썬은 수학 연산을 할 수 있는데 그 기호가 우리가 사용하는 것과는 조금 달라요!\n",
        "\n",
        "* 사진출처: AI온북\n",
        "\n",
        "![1623661438324.PNG](data:image/png;base64,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)"
      ],
      "metadata": {
        "id": "zquCiDrNGqOb"
      }
    },
    {
      "cell_type": "markdown",
      "source": [
        "**04. 할당과 계산**\n",
        "\n",
        "하나의 변수 값에 여러 개의 계산을 반복하여 실행할 때 연산 기호를 사용하여 변수를 생략할 수 있어요!\n",
        "\n",
        "등호 (=) 앞에 연산자를 붙이고 뒤에 값을 넣으면 변수에 해당 값을 연산하여 다시 같은 변수에 할당한답니다."
      ],
      "metadata": {
        "id": "feDPtZQ4Pjrj"
      }
    },
    {
      "cell_type": "code",
      "source": [
        "a = 6\n",
        "a += 4\n",
        "print(a)"
      ],
      "metadata": {
        "colab": {
          "base_uri": "https://localhost:8080/"
        },
        "id": "xE_345PrP6Wl",
        "outputId": "f5693e09-71e7-43eb-9aac-cce75b0632bc"
      },
      "execution_count": null,
      "outputs": [
        {
          "output_type": "stream",
          "name": "stdout",
          "text": [
            "10\n"
          ]
        }
      ]
    },
    {
      "cell_type": "markdown",
      "source": [
        "**05. 문자의 연산**\n",
        "\n",
        "문자의 덧셈은 문자가 서로 연결되어 출력되고, 문자의 곱셈은 곱한 수만큼 반복되어 출력됩니다.\n",
        "\n",
        "이는 Python의 독특한 특징이라고 할 수 있어요!"
      ],
      "metadata": {
        "id": "QsXyJQUnTEE1"
      }
    },
    {
      "cell_type": "code",
      "source": [
        "a = '덧'\n",
        "b = '셈'\n",
        "print(a+b)"
      ],
      "metadata": {
        "colab": {
          "base_uri": "https://localhost:8080/"
        },
        "id": "pfD5NEjOTZE5",
        "outputId": "35e9db1a-8f79-4055-f396-f9c215a7338e"
      },
      "execution_count": null,
      "outputs": [
        {
          "output_type": "stream",
          "name": "stdout",
          "text": [
            "덧셈\n"
          ]
        }
      ]
    },
    {
      "cell_type": "code",
      "source": [
        "a = 'o' * 13\n",
        "print('me')\n",
        "print(a)\n",
        "print('w')"
      ],
      "metadata": {
        "colab": {
          "base_uri": "https://localhost:8080/"
        },
        "id": "zBZ5z787TgPg",
        "outputId": "55b36d7a-97fc-4463-816f-7339e79990ba"
      },
      "execution_count": null,
      "outputs": [
        {
          "output_type": "stream",
          "name": "stdout",
          "text": [
            "me\n",
            "ooooooooooooo\n",
            "w\n"
          ]
        }
      ]
    }
  ]
}