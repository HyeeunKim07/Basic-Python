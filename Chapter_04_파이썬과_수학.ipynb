{
  "nbformat": 4,
  "nbformat_minor": 0,
  "metadata": {
    "colab": {
      "provenance": [],
      "authorship_tag": "ABX9TyNVc5UXmR/ooR2Mq9RoQVbG",
      "include_colab_link": true
    },
    "kernelspec": {
      "name": "python3",
      "display_name": "Python 3"
    },
    "language_info": {
      "name": "python"
    }
  },
  "cells": [
    {
      "cell_type": "markdown",
      "metadata": {
        "id": "view-in-github",
        "colab_type": "text"
      },
      "source": [
        "<a href=\"https://colab.research.google.com/github/HyeeunKim07/Basic-Python/blob/main/Chapter_04_%ED%8C%8C%EC%9D%B4%EC%8D%AC%EA%B3%BC_%EC%88%98%ED%95%99.ipynb\" target=\"_parent\"><img src=\"https://colab.research.google.com/assets/colab-badge.svg\" alt=\"Open In Colab\"/></a>"
      ]
    },
    {
      "cell_type": "markdown",
      "source": [
        "# **Chapter 04_파이썬과 수학**\n",
        "\n",
        "**01. 리스트**\n",
        "\n",
        "파이썬에는 대괄호 안에 숫자를 넣어 여러 개의 값을 동시에 할당할 수 있는데, 이를 리스트라고 합니다!"
      ],
      "metadata": {
        "id": "VH1Dc_NWQbkY"
      }
    },
    {
      "cell_type": "code",
      "execution_count": null,
      "metadata": {
        "colab": {
          "base_uri": "https://localhost:8080/"
        },
        "id": "oOCbY6RhQWtL",
        "outputId": "1f208981-e451-4ce2-a152-aa446635fbb3"
      },
      "outputs": [
        {
          "output_type": "stream",
          "name": "stdout",
          "text": [
            "[1, 2, 3, 4, 5, 6, 7]\n"
          ]
        }
      ],
      "source": [
        "number = [1,2,3,4,5,6,7]\n",
        "print(number)"
      ]
    },
    {
      "cell_type": "markdown",
      "source": [
        "**02. sum**\n",
        "\n",
        "덧셈을 할 때 하나하나 값을 더하지 않고도 함수를 사용해 덧셈을 할 수 있어요."
      ],
      "metadata": {
        "id": "2srHSqK8Q5VT"
      }
    },
    {
      "cell_type": "code",
      "source": [
        "number = [1, 2, 3]\n",
        "sum(number)\n",
        "\n",
        "# 또는\n",
        "\n",
        "sum([1, 2, 3])"
      ],
      "metadata": {
        "colab": {
          "base_uri": "https://localhost:8080/"
        },
        "id": "n6bzKgZaQy5-",
        "outputId": "0ce9f8ef-448b-4d85-dde1-f760ace2f90f"
      },
      "execution_count": null,
      "outputs": [
        {
          "output_type": "execute_result",
          "data": {
            "text/plain": [
              "6"
            ]
          },
          "metadata": {},
          "execution_count": 2
        }
      ]
    },
    {
      "cell_type": "markdown",
      "source": [
        "**03. Max와 min**\n",
        "\n",
        "나중에 많은 값의 데이터를 다룰 경우, 최댓값과 최솟값을 찾아야 하는 경우가 있어요.\n",
        "\n",
        "이럴 경우 Max와 min을 사용하면 편리하답니다!\n",
        "\n",
        "* 괄호의 개수에 유의해야 해요!"
      ],
      "metadata": {
        "id": "GK2AZFTdSGQ4"
      }
    },
    {
      "cell_type": "code",
      "source": [
        "number = [1,2,3,4,5,6,7,8,9,10,11,12,13,14,15]\n",
        "print(max(number))\n",
        "print(min(number))"
      ],
      "metadata": {
        "colab": {
          "base_uri": "https://localhost:8080/"
        },
        "id": "hLV_-65HRPc1",
        "outputId": "f43ae5ee-a7c1-4cc2-e7d6-7ce563f59096"
      },
      "execution_count": null,
      "outputs": [
        {
          "output_type": "stream",
          "name": "stdout",
          "text": [
            "15\n",
            "1\n"
          ]
        }
      ]
    }
  ]
}