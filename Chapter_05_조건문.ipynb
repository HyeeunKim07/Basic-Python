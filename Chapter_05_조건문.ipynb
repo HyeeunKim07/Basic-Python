{
  "nbformat": 4,
  "nbformat_minor": 0,
  "metadata": {
    "colab": {
      "provenance": [],
      "authorship_tag": "ABX9TyMcq2r8A9VpgonOAmbK69Zk",
      "include_colab_link": true
    },
    "kernelspec": {
      "name": "python3",
      "display_name": "Python 3"
    },
    "language_info": {
      "name": "python"
    }
  },
  "cells": [
    {
      "cell_type": "markdown",
      "metadata": {
        "id": "view-in-github",
        "colab_type": "text"
      },
      "source": [
        "<a href=\"https://colab.research.google.com/github/HyeeunKim07/Basic-Python/blob/main/Chapter_05_%EC%A1%B0%EA%B1%B4%EB%AC%B8.ipynb\" target=\"_parent\"><img src=\"https://colab.research.google.com/assets/colab-badge.svg\" alt=\"Open In Colab\"/></a>"
      ]
    },
    {
      "cell_type": "markdown",
      "source": [
        "# **Chapter 05_조건문**\n",
        "**01. 조건문이란?**\n",
        "\n",
        "조건문은 조건이 맞으면 특정 코드를 실행하고, 아닐 경우 실행하지 않는 코드에요.\n",
        "\n",
        "if, elif, else를 사용해 조건문을 구현한답니다!\n",
        "\n",
        "if는 실행조건을 만족시켰을 때 특정 코드가 실행된다면, else는 세트로 작용해 if 조건이 아닌 경우를 나타내요!\n",
        "\n",
        "elif는 if와 else 사이에서 추가적인 조건을 추가해줘요."
      ],
      "metadata": {
        "id": "3wy1G0j_6Rfn"
      }
    },
    {
      "cell_type": "code",
      "execution_count": null,
      "metadata": {
        "colab": {
          "base_uri": "https://localhost:8080/"
        },
        "id": "YczCMiBC6N1u",
        "outputId": "9dce7135-fd3b-4d31-85da-be4ac03bf6b6"
      },
      "outputs": [
        {
          "output_type": "stream",
          "name": "stdout",
          "text": [
            "2\n",
            "x는 3 미만입니다.\n"
          ]
        }
      ],
      "source": [
        "x = int(input())  # int는 입력 값을 정수로 변환해 저장하는 코드입니다!\n",
        "\n",
        "if x < 3:\n",
        "    print('x는 3 미만입니다.')\n",
        "else:\n",
        "    print('x는 3 이상입니다.')"
      ]
    },
    {
      "cell_type": "markdown",
      "source": [
        "**02. 조건문 코드 작성시 주의할 점**\n",
        "1. if 뒤 조건을 쓴 뒤에는 무조건 콜론 (:)을 붙여야 해요.\n",
        "2. else에는 부가조건을 적지 않고 바로 콜론 (:)을 붙여요.\n",
        "3. if와 else 밑에 코드를 적을 때는 무조건 들여쓰기를 해야 해요."
      ],
      "metadata": {
        "id": "YDqLNp7dAcdu"
      }
    },
    {
      "cell_type": "code",
      "source": [
        "size = int(input())\n",
        "\n",
        "if size<90:\n",
        "  print('S size')\n",
        "elif 90<=size<100:\n",
        "  print('M size')\n",
        "else:\n",
        "  print('L size')"
      ],
      "metadata": {
        "colab": {
          "base_uri": "https://localhost:8080/"
        },
        "id": "aEujzS-G_Qc1",
        "outputId": "6d4bdb1b-68a5-4e58-c4a0-52f0569ac922"
      },
      "execution_count": null,
      "outputs": [
        {
          "output_type": "stream",
          "name": "stdout",
          "text": [
            "70\n",
            "S size\n"
          ]
        }
      ]
    },
    {
      "cell_type": "markdown",
      "source": [
        "**03. 비교연산자**\n",
        "\n",
        "두 값을 비교하는 비교연산자를 통해 조건을 더 다양하게 나타낼 수 있답니다!\n",
        "\n",
        "**x < y**   : x가 y보다 작다\n",
        "\n",
        "**x > y**   : x가 y보다 크다\n",
        "\n",
        "**x == y**  : x와 y가 같다\n",
        "\n",
        "**x >= y**  : x가 y보다 크거나 같다\n",
        "\n",
        "**x <= y**  : x가 y보다 작거나 같다\n",
        "\n",
        "**x != y**  : x와 y가 같지 않다"
      ],
      "metadata": {
        "id": "W9frvDLYBFk8"
      }
    },
    {
      "cell_type": "markdown",
      "source": [
        "**04. 논리연산자**\n",
        "\n",
        "참과 거짓을 이용한 연산자를 논리연산자라고 합니다.\n",
        "\n",
        "**x or y** x : 또는 y 중 하나만 참이어도 참\n",
        "\n",
        "**x and y** : x와 y 모두 참이어야 참\n",
        "\n",
        "**not x** : x와 반대(참일 경우 거짓, 거짓일 경우 참)"
      ],
      "metadata": {
        "id": "_wWVrgl61I7L"
      }
    }
  ]
}