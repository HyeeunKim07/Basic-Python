{
  "nbformat": 4,
  "nbformat_minor": 0,
  "metadata": {
    "colab": {
      "provenance": [],
      "authorship_tag": "ABX9TyO56khu2w7PzjvFaZtzULpE",
      "include_colab_link": true
    },
    "kernelspec": {
      "name": "python3",
      "display_name": "Python 3"
    },
    "language_info": {
      "name": "python"
    }
  },
  "cells": [
    {
      "cell_type": "markdown",
      "metadata": {
        "id": "view-in-github",
        "colab_type": "text"
      },
      "source": [
        "<a href=\"https://colab.research.google.com/github/HyeeunKim07/Basic-Python/blob/main/Chapter_06_%EB%B0%98%EB%B3%B5%EB%AC%B8.ipynb\" target=\"_parent\"><img src=\"https://colab.research.google.com/assets/colab-badge.svg\" alt=\"Open In Colab\"/></a>"
      ]
    },
    {
      "cell_type": "markdown",
      "source": [
        "# **Chapter 06_반복문**\n",
        "**01. 반복문이란?**\n",
        "\n",
        "반복문은 똑같은 것을 여러 번 실행하는 코드를 더 쉽게 나타내는 코드에요.\n",
        "\n",
        "for과 whiile을 이용해 나타낼 수 있어요!"
      ],
      "metadata": {
        "id": "9NFChf0H9ahd"
      }
    },
    {
      "cell_type": "markdown",
      "source": [
        "**02. while**\n",
        "\n",
        "반복문에서 사용되는 while은 조건식이 false가 될 때까지 실행한다는 특징이 있어요!\n",
        "\n",
        "true라면 계속 실행하고 false가 되면 종료됩니다."
      ],
      "metadata": {
        "id": "6MCtuWuDlRCj"
      }
    },
    {
      "cell_type": "code",
      "execution_count": null,
      "metadata": {
        "id": "a18p53fN8vac",
        "colab": {
          "base_uri": "https://localhost:8080/"
        },
        "outputId": "38cad41a-0f92-476f-fa54-bb827a115c7c"
      },
      "outputs": [
        {
          "output_type": "stream",
          "name": "stdout",
          "text": [
            "1부터 5까지의 합은 15입니다.\n"
          ]
        }
      ],
      "source": [
        "num=1\n",
        "sum=0\n",
        "\n",
        "while(num <= 5):\n",
        "  sum = sum + num\n",
        "  num = num +1\n",
        "print(f'1부터 5까지의 합은 {sum}입니다.')"
      ]
    },
    {
      "cell_type": "markdown",
      "source": [
        "**03. for**\n",
        "for의 경우 while과 다르게 조건식으로 true와 false를 판단한다는 특징이 있어요!"
      ],
      "metadata": {
        "id": "aMUXdwP3lwxT"
      }
    },
    {
      "cell_type": "code",
      "source": [
        "for i in range(1,5):\n",
        "    print(i, end=\", \")"
      ],
      "metadata": {
        "id": "ZQ4SHdCRWBkd",
        "colab": {
          "base_uri": "https://localhost:8080/"
        },
        "outputId": "1fb1ee1e-c121-4368-e5db-7624991c7a4c"
      },
      "execution_count": null,
      "outputs": [
        {
          "output_type": "stream",
          "name": "stdout",
          "text": [
            "1, 2, 3, 4, "
          ]
        }
      ]
    },
    {
      "cell_type": "markdown",
      "source": [
        "for문에서 range는 범위를 나타내는 것으로, (a,b)라면 a 이상 b 미만을 표시해요.\n",
        "\n",
        "만약 (a)와 같이 하나의 숫자만 표시되어 있다면 0 이상이라는 말이 생략된 것으로 간주하고 출력합니다."
      ],
      "metadata": {
        "id": "WJl5GMGbk4pm"
      }
    },
    {
      "cell_type": "code",
      "source": [
        "for i in range(5):\n",
        "  print(i)"
      ],
      "metadata": {
        "colab": {
          "base_uri": "https://localhost:8080/"
        },
        "id": "yJSetnH5kyZf",
        "outputId": "737253a0-91ea-4d03-8776-22fdc27163d1"
      },
      "execution_count": null,
      "outputs": [
        {
          "output_type": "stream",
          "name": "stdout",
          "text": [
            "0\n",
            "1\n",
            "2\n",
            "3\n",
            "4\n"
          ]
        }
      ]
    }
  ]
}