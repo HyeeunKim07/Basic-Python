{
  "nbformat": 4,
  "nbformat_minor": 0,
  "metadata": {
    "colab": {
      "provenance": [],
      "authorship_tag": "ABX9TyOKhtn2jisc4XyAsWBMq9v3",
      "include_colab_link": true
    },
    "kernelspec": {
      "name": "python3",
      "display_name": "Python 3"
    },
    "language_info": {
      "name": "python"
    }
  },
  "cells": [
    {
      "cell_type": "markdown",
      "metadata": {
        "id": "view-in-github",
        "colab_type": "text"
      },
      "source": [
        "<a href=\"https://colab.research.google.com/github/HyeeunKim07/Basic-Python/blob/main/Chapter_07_%EB%AC%B8%EC%9E%90%EC%97%B4.ipynb\" target=\"_parent\"><img src=\"https://colab.research.google.com/assets/colab-badge.svg\" alt=\"Open In Colab\"/></a>"
      ]
    },
    {
      "cell_type": "markdown",
      "source": [
        "# **Chapter 07_문자열**\n",
        "**01. 문자열이란?**\n",
        "\n",
        "문자열은 말그대로 문자를 나열한 것으로, 작은따옴표와 큰따옴표를 사용해 나타냅니다.\n",
        "\n",
        "문자열은 첫번째 요소의 index가 0부터 시작한다는 특징이 있습니다.\n",
        "\n",
        "문자열에서 한 요소를 살펴보기(접근하기) 위해 string을 사용합니다."
      ],
      "metadata": {
        "id": "rHDlfww-5ztE"
      }
    },
    {
      "cell_type": "code",
      "source": [
        "string = \"영일이삼사오\"\n",
        "print(string[3])"
      ],
      "metadata": {
        "colab": {
          "base_uri": "https://localhost:8080/"
        },
        "id": "lpnXOkEU5e7n",
        "outputId": "ea6c9f22-ae90-498d-bedc-3e17d7d2a86f"
      },
      "execution_count": 1,
      "outputs": [
        {
          "output_type": "stream",
          "name": "stdout",
          "text": [
            "삼\n"
          ]
        }
      ]
    },
    {
      "cell_type": "markdown",
      "source": [
        "string과 문자열 모두 0부터 시작하기 때문에 string[3]은 '삼'을 출력하게 됩니다."
      ],
      "metadata": {
        "id": "QhEnB1m35oCs"
      }
    },
    {
      "cell_type": "markdown",
      "source": [
        "**02. 공백**\n",
        "\n",
        "파이썬에서는 공백도 하나의 요소로 인식해 출력합니다."
      ],
      "metadata": {
        "id": "ZiqkWtkX5413"
      }
    },
    {
      "cell_type": "code",
      "source": [
        "string = \"공백도 요소다.\"\n",
        "print(string[2])\n",
        "print(string[3])\n",
        "print(string[4])"
      ],
      "metadata": {
        "colab": {
          "base_uri": "https://localhost:8080/"
        },
        "id": "4KVHI7Y76Vce",
        "outputId": "adad7bc6-3764-4e84-bec5-1c8f81a1fd5a"
      },
      "execution_count": 3,
      "outputs": [
        {
          "output_type": "stream",
          "name": "stdout",
          "text": [
            "도\n",
            " \n",
            "요\n"
          ]
        }
      ]
    },
    {
      "cell_type": "markdown",
      "source": [
        "**03. 슬라이싱**\n",
        "\n",
        "문자열에서 원하는 부분을 가져오기 위해 슬라이싱을 진행합니다.\n",
        "\n",
        "대괄호 시작하는 요소의 번호와 끝나는 요소의 번호 +1을 적어 나타내요!"
      ],
      "metadata": {
        "id": "LfTNAY_J6cOQ"
      }
    },
    {
      "cell_type": "code",
      "source": [
        "string = \"왕자다운 위풍으로 왕자다운 패기로 왕자다운 걸음으로 왕도를 간다\"\n",
        "slice1 = string[29:35]\n",
        "print(slice1)"
      ],
      "metadata": {
        "colab": {
          "base_uri": "https://localhost:8080/"
        },
        "id": "3ktuKYUm6X1f",
        "outputId": "5ac88b2d-bbaa-49b8-9da9-c001eec91f75"
      },
      "execution_count": 9,
      "outputs": [
        {
          "output_type": "stream",
          "name": "stdout",
          "text": [
            "왕도를 간다\n"
          ]
        }
      ]
    },
    {
      "cell_type": "markdown",
      "source": [
        "**04. split**\n",
        "\n",
        "특정한 글자나 기호를 통해 문자열을 분리하는 함수를 split이라 말합니다."
      ],
      "metadata": {
        "id": "41VRwXY97dT2"
      }
    },
    {
      "cell_type": "code",
      "source": [
        "string = \"왕자다운 위풍으로 왕자다운 패기로 왕자다운 걸음으로 왕도를 간다\"\n",
        "\n",
        "split_blank = string.split()\n",
        "\n",
        "print(split_blank)"
      ],
      "metadata": {
        "colab": {
          "base_uri": "https://localhost:8080/"
        },
        "id": "zelQMHhG7Tf6",
        "outputId": "9a3d91a2-6a51-432c-b4cd-8a521e672a83"
      },
      "execution_count": 11,
      "outputs": [
        {
          "output_type": "stream",
          "name": "stdout",
          "text": [
            "['왕자다운', '위풍으로', '왕자다운', '패기로', '왕자다운', '걸음으로', '왕도를', '간다']\n"
          ]
        }
      ]
    },
    {
      "cell_type": "markdown",
      "source": [
        "split()에서 괄호 안에 아무것도 적지 않으면 공백을 바탕으로 분리하고, 안에 특정한 기준 문자가 있다면 해당 문자열을 기준으로 나눠요!"
      ],
      "metadata": {
        "id": "zExIGxTG76gh"
      }
    },
    {
      "cell_type": "markdown",
      "source": [
        "**05. replace**\n",
        "\n",
        "특정 요소를 다른 글자로 바꾸기 위해서는 'replace'를 활용하면 됩니다.\n",
        "\n",
        "replace(\"기존 문자열\", \"바꿀 문자열\")의 형태로 사용해요!"
      ],
      "metadata": {
        "id": "zaFffjq68LwH"
      }
    },
    {
      "cell_type": "code",
      "source": [
        "string = \"왕자다운 위풍으로 왕자다운 패기로 왕자다운 걸음으로 왕도를 간다\"\n",
        "string = string.replace(\"왕자\", \"상산\")\n",
        "print(string)"
      ],
      "metadata": {
        "colab": {
          "base_uri": "https://localhost:8080/"
        },
        "id": "7iVG4ena8TVb",
        "outputId": "13120399-488c-4582-8d46-f580094545d7"
      },
      "execution_count": 12,
      "outputs": [
        {
          "output_type": "stream",
          "name": "stdout",
          "text": [
            "상산다운 위풍으로 상산다운 패기로 상산다운 걸음으로 왕도를 간다\n"
          ]
        }
      ]
    }
  ]
}