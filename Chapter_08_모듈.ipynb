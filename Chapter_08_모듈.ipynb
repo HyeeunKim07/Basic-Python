{
  "nbformat": 4,
  "nbformat_minor": 0,
  "metadata": {
    "colab": {
      "provenance": [],
      "authorship_tag": "ABX9TyMXZOwco+nOhhik1/1/wOMc",
      "include_colab_link": true
    },
    "kernelspec": {
      "name": "python3",
      "display_name": "Python 3"
    },
    "language_info": {
      "name": "python"
    }
  },
  "cells": [
    {
      "cell_type": "markdown",
      "metadata": {
        "id": "view-in-github",
        "colab_type": "text"
      },
      "source": [
        "<a href=\"https://colab.research.google.com/github/HyeeunKim07/Basic-Python/blob/main/Chapter_08_%EB%AA%A8%EB%93%88.ipynb\" target=\"_parent\"><img src=\"https://colab.research.google.com/assets/colab-badge.svg\" alt=\"Open In Colab\"/></a>"
      ]
    },
    {
      "cell_type": "markdown",
      "source": [
        "# **Chapter 08_모듈**\n",
        "**01. 모듈이란?**\n",
        "\n",
        "모듈은 각각의 목적을 위해 사용될 함수를 모아둔 것을 의미해요.\n",
        "\n",
        "타인이 제작해둔 모듈을 사용해 코드를 작성할 수 있답니다!\n",
        "\n",
        "이 챕터에서는 random 모듈을 바탕으로 설명할게요."
      ],
      "metadata": {
        "id": "i4hHsAPnA89-"
      }
    },
    {
      "cell_type": "code",
      "execution_count": 1,
      "metadata": {
        "colab": {
          "base_uri": "https://localhost:8080/"
        },
        "id": "yGOeetAFA7TO",
        "outputId": "2e5ce7c4-1ce5-4344-da34-5c7a20467c8e"
      },
      "outputs": [
        {
          "output_type": "stream",
          "name": "stdout",
          "text": [
            "0.9865642512196156\n"
          ]
        }
      ],
      "source": [
        "import random\n",
        "print(random.random())"
      ]
    },
    {
      "cell_type": "markdown",
      "source": [
        "**02. 모듈에게 새로운 이름 붙이기**\n",
        "\n",
        "모듈에 새로운 이름(별명)을 붙이기 위해서는 다음과 같은 코드를 사용할 수 있어요!\n",
        "\n",
        "import 모듈이름 as 모듈별명"
      ],
      "metadata": {
        "id": "PXzQ6b-tBr8h"
      }
    },
    {
      "cell_type": "code",
      "source": [
        "import random as r\n",
        "print(r.random())"
      ],
      "metadata": {
        "colab": {
          "base_uri": "https://localhost:8080/"
        },
        "id": "ni_6PeaOBdmO",
        "outputId": "c2b2e5cb-d8c4-4be2-8d40-cebabe15a630"
      },
      "execution_count": 2,
      "outputs": [
        {
          "output_type": "stream",
          "name": "stdout",
          "text": [
            "0.7843252337920132\n"
          ]
        }
      ]
    },
    {
      "cell_type": "markdown",
      "source": [
        "**03. 모듈명 없이 특정 함수 사용하기**\n",
        "\n",
        "모듈명을 일일이 적지 않고 특정 함수를 사용할 수 있습니다."
      ],
      "metadata": {
        "id": "aQiBo9pTCMWB"
      }
    },
    {
      "cell_type": "code",
      "source": [
        "from random import random\n",
        "print(random())"
      ],
      "metadata": {
        "colab": {
          "base_uri": "https://localhost:8080/"
        },
        "id": "9QRISBrwCBxH",
        "outputId": "17665511-c4be-4d2c-c4a1-a1dbbf988fd3"
      },
      "execution_count": 3,
      "outputs": [
        {
          "output_type": "stream",
          "name": "stdout",
          "text": [
            "0.5875614523209999\n"
          ]
        }
      ]
    },
    {
      "cell_type": "markdown",
      "source": [
        "함수가 들어있던 모듈명을 from 뒤에 적은 뒤 원하는 함수를 가져오는 방식입니다."
      ],
      "metadata": {
        "id": "jOOVPx-9Ci71"
      }
    }
  ]
}