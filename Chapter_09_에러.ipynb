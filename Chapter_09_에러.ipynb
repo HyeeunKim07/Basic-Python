{
  "nbformat": 4,
  "nbformat_minor": 0,
  "metadata": {
    "colab": {
      "provenance": [],
      "authorship_tag": "ABX9TyP4JLMFrnOxUQXMaSGkSMPQ",
      "include_colab_link": true
    },
    "kernelspec": {
      "name": "python3",
      "display_name": "Python 3"
    },
    "language_info": {
      "name": "python"
    }
  },
  "cells": [
    {
      "cell_type": "markdown",
      "metadata": {
        "id": "view-in-github",
        "colab_type": "text"
      },
      "source": [
        "<a href=\"https://colab.research.google.com/github/HyeeunKim07/Basic-Python/blob/main/Chapter_09_%EC%97%90%EB%9F%AC.ipynb\" target=\"_parent\"><img src=\"https://colab.research.google.com/assets/colab-badge.svg\" alt=\"Open In Colab\"/></a>"
      ]
    },
    {
      "cell_type": "markdown",
      "source": [
        "# **Chapter 09_에러**\n",
        "**01. 에러**\n",
        "\n",
        "코드를 작성하다 보면 다양한 에러가 생기게 됩니다.\n",
        "\n",
        "지금 사용하고 있는 Google Colab의 경우 이러한 에러가 나타났을 때 오류 메세지 출력과 함께 stack overflow까지 연결해준다는 장점이 있습니다.\n",
        "\n",
        "오늘은 가장 대표적인 몇 가지 오류 메세지 종류를 알아보려고 합니다!"
      ],
      "metadata": {
        "id": "xg-4EOj2DElY"
      }
    },
    {
      "cell_type": "markdown",
      "source": [
        "**02. ValueError**\n",
        "\n",
        "숫자 변수에 글자를 입력하게 된다면 ValueError가 뜨게 됩니다."
      ],
      "metadata": {
        "id": "sSs6oJkrDcFY"
      }
    },
    {
      "cell_type": "code",
      "source": [
        "num = int(input())\n",
        "print(num)"
      ],
      "metadata": {
        "colab": {
          "base_uri": "https://localhost:8080/",
          "height": 200
        },
        "id": "rjK8bwubDqBM",
        "outputId": "5dd742b9-0862-40c0-b721-0ff82b3eb6d9"
      },
      "execution_count": 1,
      "outputs": [
        {
          "name": "stdout",
          "output_type": "stream",
          "text": [
            "글자\n"
          ]
        },
        {
          "output_type": "error",
          "ename": "ValueError",
          "evalue": "ignored",
          "traceback": [
            "\u001b[0;31m---------------------------------------------------------------------------\u001b[0m",
            "\u001b[0;31mValueError\u001b[0m                                Traceback (most recent call last)",
            "\u001b[0;32m<ipython-input-1-f999589f9704>\u001b[0m in \u001b[0;36m<cell line: 1>\u001b[0;34m()\u001b[0m\n\u001b[0;32m----> 1\u001b[0;31m \u001b[0mnum\u001b[0m \u001b[0;34m=\u001b[0m \u001b[0mint\u001b[0m\u001b[0;34m(\u001b[0m\u001b[0minput\u001b[0m\u001b[0;34m(\u001b[0m\u001b[0;34m)\u001b[0m\u001b[0;34m)\u001b[0m\u001b[0;34m\u001b[0m\u001b[0;34m\u001b[0m\u001b[0m\n\u001b[0m",
            "\u001b[0;31mValueError\u001b[0m: invalid literal for int() with base 10: '글자'"
          ]
        }
      ]
    },
    {
      "cell_type": "markdown",
      "source": [
        "**03. IndexError**\n",
        "\n",
        "범위를 벗어난 원소를 출력하는 것과 같이 적절하지 않은 index를 사용하면 나타나는 오류입니다."
      ],
      "metadata": {
        "id": "1kCNkUCzDzpr"
      }
    },
    {
      "cell_type": "code",
      "source": [
        "index_list = ['0', '1', '2']\n",
        "print(index_list[5])"
      ],
      "metadata": {
        "colab": {
          "base_uri": "https://localhost:8080/",
          "height": 200
        },
        "id": "CzshikngEB8_",
        "outputId": "15d49dc3-91cc-4363-8bc1-babf86ee8c9b"
      },
      "execution_count": 5,
      "outputs": [
        {
          "output_type": "error",
          "ename": "IndexError",
          "evalue": "ignored",
          "traceback": [
            "\u001b[0;31m---------------------------------------------------------------------------\u001b[0m",
            "\u001b[0;31mIndexError\u001b[0m                                Traceback (most recent call last)",
            "\u001b[0;32m<ipython-input-5-c5a264e85495>\u001b[0m in \u001b[0;36m<cell line: 2>\u001b[0;34m()\u001b[0m\n\u001b[1;32m      1\u001b[0m \u001b[0mindex_list\u001b[0m \u001b[0;34m=\u001b[0m \u001b[0;34m[\u001b[0m\u001b[0;34m'0'\u001b[0m\u001b[0;34m,\u001b[0m \u001b[0;34m'1'\u001b[0m\u001b[0;34m,\u001b[0m \u001b[0;34m'2'\u001b[0m\u001b[0;34m]\u001b[0m\u001b[0;34m\u001b[0m\u001b[0;34m\u001b[0m\u001b[0m\n\u001b[0;32m----> 2\u001b[0;31m \u001b[0mprint\u001b[0m\u001b[0;34m(\u001b[0m\u001b[0mindex_list\u001b[0m\u001b[0;34m[\u001b[0m\u001b[0;36m5\u001b[0m\u001b[0;34m]\u001b[0m\u001b[0;34m)\u001b[0m\u001b[0;34m\u001b[0m\u001b[0;34m\u001b[0m\u001b[0m\n\u001b[0m",
            "\u001b[0;31mIndexError\u001b[0m: list index out of range"
          ]
        }
      ]
    },
    {
      "cell_type": "markdown",
      "source": [
        "**04. TypeError**\n",
        "\n",
        "숫자와 문자를 더하는 것과 같이 잘못된 자료형을 전달했을 때 나타나는 오류입니다."
      ],
      "metadata": {
        "id": "ptsHmx12EBZU"
      }
    },
    {
      "cell_type": "code",
      "source": [
        "num = 1 + '일'\n",
        "print(num)"
      ],
      "metadata": {
        "colab": {
          "base_uri": "https://localhost:8080/",
          "height": 200
        },
        "id": "Fluc0SspEtlQ",
        "outputId": "4219c373-bce4-4439-9f93-e55dea86e9c6"
      },
      "execution_count": 6,
      "outputs": [
        {
          "output_type": "error",
          "ename": "TypeError",
          "evalue": "ignored",
          "traceback": [
            "\u001b[0;31m---------------------------------------------------------------------------\u001b[0m",
            "\u001b[0;31mTypeError\u001b[0m                                 Traceback (most recent call last)",
            "\u001b[0;32m<ipython-input-6-de7f49c74e90>\u001b[0m in \u001b[0;36m<cell line: 1>\u001b[0;34m()\u001b[0m\n\u001b[0;32m----> 1\u001b[0;31m \u001b[0mnum\u001b[0m \u001b[0;34m=\u001b[0m \u001b[0;36m1\u001b[0m \u001b[0;34m+\u001b[0m \u001b[0;34m'일'\u001b[0m\u001b[0;34m\u001b[0m\u001b[0;34m\u001b[0m\u001b[0m\n\u001b[0m\u001b[1;32m      2\u001b[0m \u001b[0mprint\u001b[0m\u001b[0;34m(\u001b[0m\u001b[0mnum\u001b[0m\u001b[0;34m)\u001b[0m\u001b[0;34m\u001b[0m\u001b[0;34m\u001b[0m\u001b[0m\n",
            "\u001b[0;31mTypeError\u001b[0m: unsupported operand type(s) for +: 'int' and 'str'"
          ]
        }
      ]
    },
    {
      "cell_type": "markdown",
      "source": [
        "**05. unexpected indent**\n",
        "\n",
        "들여쓰기에서 오류가 발생했다면 뜨는 오류입니다."
      ],
      "metadata": {
        "id": "qd8XYZ_OFPgG"
      }
    },
    {
      "cell_type": "code",
      "source": [
        "a = \"들여쓰기\"\n",
        "  print(a)"
      ],
      "metadata": {
        "colab": {
          "base_uri": "https://localhost:8080/",
          "height": 146
        },
        "id": "3z4lFeN-FXRQ",
        "outputId": "b6668dbf-d131-4ed9-97fe-e2c5be144c52"
      },
      "execution_count": 7,
      "outputs": [
        {
          "output_type": "error",
          "ename": "IndentationError",
          "evalue": "ignored",
          "traceback": [
            "\u001b[0;36m  File \u001b[0;32m\"<ipython-input-7-2058abcdb372>\"\u001b[0;36m, line \u001b[0;32m2\u001b[0m\n\u001b[0;31m    print(a)\u001b[0m\n\u001b[0m    ^\u001b[0m\n\u001b[0;31mIndentationError\u001b[0m\u001b[0;31m:\u001b[0m unexpected indent\n"
          ]
        }
      ]
    },
    {
      "cell_type": "markdown",
      "source": [
        "**06. invaild syntax**\n",
        "\n",
        "문자형에 따옴표가 없는 것과 같이 문법에서 오류가 발생했을 때 나오는 오류입니다."
      ],
      "metadata": {
        "id": "93yuO7RuFcy6"
      }
    },
    {
      "cell_type": "code",
      "source": [
        "a = 문법 오류\n",
        "print(a)"
      ],
      "metadata": {
        "colab": {
          "base_uri": "https://localhost:8080/",
          "height": 146
        },
        "id": "v8uMBGIOFbXF",
        "outputId": "118b49de-610e-4c0d-f4cc-584cfba001db"
      },
      "execution_count": 8,
      "outputs": [
        {
          "output_type": "error",
          "ename": "SyntaxError",
          "evalue": "ignored",
          "traceback": [
            "\u001b[0;36m  File \u001b[0;32m\"<ipython-input-8-2cf253d47c25>\"\u001b[0;36m, line \u001b[0;32m1\u001b[0m\n\u001b[0;31m    a = 문법 오류\u001b[0m\n\u001b[0m           ^\u001b[0m\n\u001b[0;31mSyntaxError\u001b[0m\u001b[0;31m:\u001b[0m invalid syntax\n"
          ]
        }
      ]
    },
    {
      "cell_type": "markdown",
      "source": [
        "**07. is not defined**\n",
        "\n",
        "변수를 정의하지 않았을 때 발생하는 오류입니다."
      ],
      "metadata": {
        "id": "uk-Fz2PAFx9z"
      }
    },
    {
      "cell_type": "code",
      "source": [
        "print(a)"
      ],
      "metadata": {
        "colab": {
          "base_uri": "https://localhost:8080/",
          "height": 182
        },
        "id": "2ZT3M7TeFvPZ",
        "outputId": "412547c3-7d7c-4a3a-da1b-f6719b543fa2"
      },
      "execution_count": 9,
      "outputs": [
        {
          "output_type": "error",
          "ename": "NameError",
          "evalue": "ignored",
          "traceback": [
            "\u001b[0;31m---------------------------------------------------------------------------\u001b[0m",
            "\u001b[0;31mNameError\u001b[0m                                 Traceback (most recent call last)",
            "\u001b[0;32m<ipython-input-9-bca0e2660b9f>\u001b[0m in \u001b[0;36m<cell line: 1>\u001b[0;34m()\u001b[0m\n\u001b[0;32m----> 1\u001b[0;31m \u001b[0mprint\u001b[0m\u001b[0;34m(\u001b[0m\u001b[0ma\u001b[0m\u001b[0;34m)\u001b[0m\u001b[0;34m\u001b[0m\u001b[0;34m\u001b[0m\u001b[0m\n\u001b[0m",
            "\u001b[0;31mNameError\u001b[0m: name 'a' is not defined"
          ]
        }
      ]
    },
    {
      "cell_type": "markdown",
      "source": [
        "**08. EOL while scanning string literal**\n",
        "\n",
        "문자형에서 괄호나 따옴표 등이 끝에 없을 때 발생하는 오류입니다."
      ],
      "metadata": {
        "id": "UsJspolRF8Vc"
      }
    },
    {
      "cell_type": "code",
      "source": [
        "a = {\"오징어\", \"고래\", \"참치}\n",
        "print(a)"
      ],
      "metadata": {
        "colab": {
          "base_uri": "https://localhost:8080/",
          "height": 146
        },
        "id": "IL_pHrQrF6ss",
        "outputId": "ded1ff7c-6dd4-4131-d912-26be2ed764b4"
      },
      "execution_count": 11,
      "outputs": [
        {
          "output_type": "error",
          "ename": "SyntaxError",
          "evalue": "ignored",
          "traceback": [
            "\u001b[0;36m  File \u001b[0;32m\"<ipython-input-11-e51d42b4bdeb>\"\u001b[0;36m, line \u001b[0;32m1\u001b[0m\n\u001b[0;31m    a = {\"오징어\", \"고래\", \"참치}\u001b[0m\n\u001b[0m                      ^\u001b[0m\n\u001b[0;31mSyntaxError\u001b[0m\u001b[0;31m:\u001b[0m unterminated string literal (detected at line 1)\n"
          ]
        }
      ]
    }
  ]
}